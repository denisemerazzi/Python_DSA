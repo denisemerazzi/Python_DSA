{
 "cells": [
  {
   "cell_type": "markdown",
   "metadata": {},
   "source": [
    "# <font color='blue'>Data Science Academy - Python Fundamentos - Capítulo 6</font>\n",
    "\n",
    "## Download: http://github.com/dsacademybr"
   ]
  },
  {
   "cell_type": "code",
   "execution_count": 1,
   "metadata": {},
   "outputs": [
    {
     "name": "stdout",
     "output_type": "stream",
     "text": [
      "Versão da Linguagem Python Usada Neste Jupyter Notebook: 3.8.8\n"
     ]
    }
   ],
   "source": [
    "# Versão da Linguagem Python\n",
    "from platform import python_version\n",
    "print('Versão da Linguagem Python Usada Neste Jupyter Notebook:', python_version())"
   ]
  },
  {
   "cell_type": "markdown",
   "metadata": {},
   "source": [
    "### Update e Delete"
   ]
  },
  {
   "cell_type": "code",
   "execution_count": 1,
   "metadata": {},
   "outputs": [],
   "source": [
    "import sqlite3\n",
    "import random\n",
    "import time\n",
    "import datetime\n",
    " \n",
    "# Criando uma conexão\n",
    "conn = sqlite3.connect('dsa.db')   \n",
    "\n",
    "# Criando um cursor\n",
    "c = conn.cursor()\n",
    " \n",
    "# Função para criar uma tabela\n",
    "def create_table():\n",
    "    c.execute('CREATE TABLE IF NOT EXISTS produtos(id INTEGER PRIMARY KEY AUTOINCREMENT NOT NULL, date TEXT, '\\\n",
    "              'prod_name TEXT, valor REAL)')\n",
    "      \n",
    "# Função para inserir uma linha\n",
    "def data_insert():\n",
    "    c.execute(\"INSERT INTO produtos VALUES(002, '02-05-2020', 'teclado', 130 )\")\n",
    "    conn.commit()\n",
    "    c.close()\n",
    "    conn.close()\n",
    "    \n",
    "# Usando variáveis para inserir dados    \n",
    "def data_insert_var():\n",
    "    new_date = datetime.datetime.now()\n",
    "    new_prod_name = 'monitor'\n",
    "    new_valor = random.randrange(50,100)\n",
    "    c.execute(\"INSERT INTO produtos (date, prod_name, valor) VALUES (?, ?, ?, ?)\", \n",
    "              (new_date, new_prod_name, new_valor))\n",
    "    conn.commit()\n",
    "    \n",
    "# Leitura de dados\n",
    "def leitura_todos_dados():\n",
    "    c.execute(\"SELECT * FROM PRODUTOS\")\n",
    "    for linha in c.fetchall():\n",
    "        print(linha)\n",
    "        \n",
    "# Leitura de registros específicos\n",
    "def leitura_registros():\n",
    "    c.execute(\"SELECT * FROM PRODUTOS WHERE valor > 70.0\")\n",
    "    for linha in c.fetchall():\n",
    "        print(linha)      \n",
    "        \n",
    "# Leitura de colunas específicos\n",
    "def leitura_colunas():\n",
    "    c.execute(\"SELECT * FROM PRODUTOS\")\n",
    "    for linha in c.fetchall():\n",
    "        print(linha[3])  \n",
    "        \n",
    "# Update\n",
    "def atualiza_dados():\n",
    "    c.execute(\"UPDATE produtos SET valor = 70.00 WHERE valor = 98.0\")\n",
    "    conn.commit()\n",
    "    \n",
    "# Delete\n",
    "def remove_dados():\n",
    "    c.execute(\"DELETE FROM produtos WHERE valor = 62.0\")\n",
    "    conn.commit()"
   ]
  },
  {
   "cell_type": "code",
   "execution_count": 2,
   "metadata": {},
   "outputs": [],
   "source": [
    "atualiza_dados()"
   ]
  },
  {
   "cell_type": "code",
   "execution_count": 3,
   "metadata": {},
   "outputs": [
    {
     "name": "stdout",
     "output_type": "stream",
     "text": [
      "(10, '2020-05-02 14:32:11', 'Teclado', 90.0)\n",
      "(11, '2022-04-11 16:59:41.069853', 'Monitor', 83.0)\n",
      "(12, '2022-04-11 16:59:42.086367', 'Monitor', 81.0)\n",
      "(13, '2022-04-11 16:59:43.096238', 'Monitor', 65.0)\n",
      "(14, '2022-04-11 16:59:44.121624', 'Monitor', 97.0)\n",
      "(15, '2022-04-11 16:59:45.126384', 'Monitor', 69.0)\n",
      "(16, '2022-04-11 16:59:46.134658', 'Monitor', 66.0)\n",
      "(17, '2022-04-11 16:59:47.148134', 'Monitor', 83.0)\n",
      "(18, '2022-04-11 16:59:48.156469', 'Monitor', 73.0)\n",
      "(19, '2022-04-11 16:59:49.175805', 'Monitor', 55.0)\n",
      "(20, '2022-04-11 16:59:50.196449', 'Monitor', 94.0)\n",
      "(21, '2022-04-11 19:10:36.429010', 'Monitor', 62.0)\n",
      "(22, '2022-04-11 19:10:37.448293', 'Monitor', 58.0)\n",
      "(23, '2022-04-11 19:10:38.469558', 'Monitor', 77.0)\n",
      "(24, '2022-04-11 19:10:39.476986', 'Monitor', 78.0)\n",
      "(25, '2022-04-11 19:10:40.496831', 'Monitor', 50.0)\n",
      "(26, '2022-04-11 19:10:41.514065', 'Monitor', 65.0)\n",
      "(27, '2022-04-11 19:10:42.527271', 'Monitor', 68.0)\n",
      "(28, '2022-04-11 19:10:43.545469', 'Monitor', 83.0)\n",
      "(29, '2022-04-11 19:10:44.550703', 'Monitor', 70.0)\n",
      "(30, '2022-04-11 19:10:45.567282', 'Monitor', 89.0)\n"
     ]
    }
   ],
   "source": [
    "leitura_todos_dados()"
   ]
  },
  {
   "cell_type": "code",
   "execution_count": 4,
   "metadata": {},
   "outputs": [],
   "source": [
    "remove_dados()"
   ]
  },
  {
   "cell_type": "code",
   "execution_count": 5,
   "metadata": {},
   "outputs": [
    {
     "name": "stdout",
     "output_type": "stream",
     "text": [
      "(10, '2020-05-02 14:32:11', 'Teclado', 90.0)\n",
      "(11, '2022-04-11 16:59:41.069853', 'Monitor', 83.0)\n",
      "(12, '2022-04-11 16:59:42.086367', 'Monitor', 81.0)\n",
      "(13, '2022-04-11 16:59:43.096238', 'Monitor', 65.0)\n",
      "(14, '2022-04-11 16:59:44.121624', 'Monitor', 97.0)\n",
      "(15, '2022-04-11 16:59:45.126384', 'Monitor', 69.0)\n",
      "(16, '2022-04-11 16:59:46.134658', 'Monitor', 66.0)\n",
      "(17, '2022-04-11 16:59:47.148134', 'Monitor', 83.0)\n",
      "(18, '2022-04-11 16:59:48.156469', 'Monitor', 73.0)\n",
      "(19, '2022-04-11 16:59:49.175805', 'Monitor', 55.0)\n",
      "(20, '2022-04-11 16:59:50.196449', 'Monitor', 94.0)\n",
      "(22, '2022-04-11 19:10:37.448293', 'Monitor', 58.0)\n",
      "(23, '2022-04-11 19:10:38.469558', 'Monitor', 77.0)\n",
      "(24, '2022-04-11 19:10:39.476986', 'Monitor', 78.0)\n",
      "(25, '2022-04-11 19:10:40.496831', 'Monitor', 50.0)\n",
      "(26, '2022-04-11 19:10:41.514065', 'Monitor', 65.0)\n",
      "(27, '2022-04-11 19:10:42.527271', 'Monitor', 68.0)\n",
      "(28, '2022-04-11 19:10:43.545469', 'Monitor', 83.0)\n",
      "(29, '2022-04-11 19:10:44.550703', 'Monitor', 70.0)\n",
      "(30, '2022-04-11 19:10:45.567282', 'Monitor', 89.0)\n"
     ]
    }
   ],
   "source": [
    "leitura_todos_dados()"
   ]
  },
  {
   "cell_type": "markdown",
   "metadata": {},
   "source": [
    "# Fim"
   ]
  },
  {
   "cell_type": "markdown",
   "metadata": {},
   "source": [
    "### Obrigado\n",
    "\n",
    "### Visite o Blog da Data Science Academy - <a href=\"http://blog.dsacademy.com.br\">Blog DSA</a>"
   ]
  }
 ],
 "metadata": {
  "kernelspec": {
   "display_name": "Python 3",
   "language": "python",
   "name": "python3"
  },
  "language_info": {
   "codemirror_mode": {
    "name": "ipython",
    "version": 3
   },
   "file_extension": ".py",
   "mimetype": "text/x-python",
   "name": "python",
   "nbconvert_exporter": "python",
   "pygments_lexer": "ipython3",
   "version": "3.8.8"
  }
 },
 "nbformat": 4,
 "nbformat_minor": 1
}
