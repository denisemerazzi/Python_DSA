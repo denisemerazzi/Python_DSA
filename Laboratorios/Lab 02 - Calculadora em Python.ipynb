{
 "cells": [
  {
   "cell_type": "code",
   "execution_count": 1,
   "id": "4fe0f89c",
   "metadata": {},
   "outputs": [],
   "source": [
    "##Calculadora em Python - exercício realizado em 07/04/2022 "
   ]
  },
  {
   "cell_type": "code",
   "execution_count": 2,
   "id": "47d2b3d4",
   "metadata": {},
   "outputs": [],
   "source": [
    "def add (x,y):\n",
    "    return x + y"
   ]
  },
  {
   "cell_type": "code",
   "execution_count": 3,
   "id": "1d006f1f",
   "metadata": {},
   "outputs": [],
   "source": [
    "def subtract (x,y):\n",
    "    return x - y"
   ]
  },
  {
   "cell_type": "code",
   "execution_count": 4,
   "id": "f5078615",
   "metadata": {},
   "outputs": [],
   "source": [
    "def multiply (x,y):\n",
    "    return x * y"
   ]
  },
  {
   "cell_type": "code",
   "execution_count": 5,
   "id": "7c3b4b6b",
   "metadata": {},
   "outputs": [],
   "source": [
    "def divide (x,y):\n",
    "    return x / y"
   ]
  },
  {
   "cell_type": "code",
   "execution_count": 6,
   "id": "69578703",
   "metadata": {},
   "outputs": [
    {
     "name": "stdout",
     "output_type": "stream",
     "text": [
      "\n",
      "Selecione o número da operação desejada:\n",
      "\n",
      "1 - soma\n",
      "2 - subtração\n",
      "3 - multiplicação\n",
      "4 - divisão\n"
     ]
    }
   ],
   "source": [
    "print(\"\\nSelecione o número da operação desejada:\\n\")\n",
    "print(\"1 - soma\")\n",
    "print(\"2 - subtração\")\n",
    "print(\"3 - multiplicação\")\n",
    "print(\"4 - divisão\")"
   ]
  },
  {
   "cell_type": "code",
   "execution_count": 7,
   "id": "d92f5938",
   "metadata": {},
   "outputs": [
    {
     "name": "stdout",
     "output_type": "stream",
     "text": [
      "\n",
      "Digite sua opção(1/2/3/4): 1\n"
     ]
    }
   ],
   "source": [
    "escolha = input(\"\\nDigite sua opção(1/2/3/4): \")"
   ]
  },
  {
   "cell_type": "code",
   "execution_count": 8,
   "id": "f9a0c68b",
   "metadata": {},
   "outputs": [
    {
     "name": "stdout",
     "output_type": "stream",
     "text": [
      "\n",
      "Digite o primeiro número:10\n"
     ]
    }
   ],
   "source": [
    "num1 = int(input(\"\\nDigite o primeiro número:\"))"
   ]
  },
  {
   "cell_type": "code",
   "execution_count": 9,
   "id": "41aca597",
   "metadata": {},
   "outputs": [
    {
     "name": "stdout",
     "output_type": "stream",
     "text": [
      "\n",
      "Digite o segundo número:20\n"
     ]
    }
   ],
   "source": [
    "num2 = int(input(\"\\nDigite o segundo número:\"))"
   ]
  },
  {
   "cell_type": "code",
   "execution_count": 13,
   "id": "dc141b5c",
   "metadata": {},
   "outputs": [
    {
     "name": "stdout",
     "output_type": "stream",
     "text": [
      "n\n",
      "10 + 20 = 30\n",
      "\n",
      "\n"
     ]
    }
   ],
   "source": [
    "if escolha == '1':\n",
    "    print(\"n\")\n",
    "    print (num1, \"+\", num2, \"=\", add(num1, num2))\n",
    "    print(\"\\n\")\n",
    "    \n",
    "elif escolha == '2':\n",
    "    print(\"n\")\n",
    "    print (num1, \"-\", num2, \"=\", subtract(num1, num2))\n",
    "    print(\"\\n\")\n",
    "    \n",
    "elif escolha == '3':\n",
    "    print(\"n\")\n",
    "    print (num1, \"*\", num2, \"=\", multiply(num1, num2))\n",
    "    print(\"\\n\")\n",
    "    \n",
    "elif escolha == '4':\n",
    "    print(\"n\")\n",
    "    print (num1, \"/\", num2, \"=\", divide(num1, num2))\n",
    "    print(\"\\n\")\n",
    "    \n",
    "else:\n",
    "    print(\"\\nOpção inválida!\")"
   ]
  }
 ],
 "metadata": {
  "kernelspec": {
   "display_name": "Python 3",
   "language": "python",
   "name": "python3"
  },
  "language_info": {
   "codemirror_mode": {
    "name": "ipython",
    "version": 3
   },
   "file_extension": ".py",
   "mimetype": "text/x-python",
   "name": "python",
   "nbconvert_exporter": "python",
   "pygments_lexer": "ipython3",
   "version": "3.8.8"
  }
 },
 "nbformat": 4,
 "nbformat_minor": 5
}
